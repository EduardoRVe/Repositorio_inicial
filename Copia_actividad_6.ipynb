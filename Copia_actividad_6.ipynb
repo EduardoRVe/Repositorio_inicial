{
  "nbformat": 4,
  "nbformat_minor": 0,
  "metadata": {
    "colab": {
      "provenance": [],
      "include_colab_link": true
    },
    "kernelspec": {
      "name": "python3",
      "display_name": "Python 3"
    },
    "language_info": {
      "name": "python"
    }
  },
  "cells": [
    {
      "cell_type": "markdown",
      "metadata": {
        "id": "view-in-github",
        "colab_type": "text"
      },
      "source": [
        "<a href=\"https://colab.research.google.com/github/EduardoRVe/Repositorio_inicial/blob/main/Copia_actividad_6.ipynb\" target=\"_parent\"><img src=\"https://colab.research.google.com/assets/colab-badge.svg\" alt=\"Open In Colab\"/></a>"
      ]
    },
    {
      "cell_type": "markdown",
      "source": [
        "\n",
        "\n",
        "---\n",
        "\n",
        "\n",
        "# **ACTIVIDAD 6**\n",
        "\n",
        "## Funciones\n",
        "\n",
        "###**NOTA** 🌟: Para realizar la actividad y que le permita guardar cambios es necesario **sacarle una copia** al archivo original. Recuerde que todo archivo al que le saque copia se ira directamente a su carpeta de **Colab Notebooks** dentro de su **Drive**. Una vez terminado, descargue su archivo de actividad con extensión **.ipynb** y adjúntelo a la tarea correspondiente en el curso de la plataforma de [Formación docente cucei](http://formaciondocente.cucei.udg.mx/mod/assign/view.php?id=41616).\n",
        "\n",
        "---\n",
        "\n"
      ],
      "metadata": {
        "id": "eDxxkNgBumYd"
      }
    },
    {
      "cell_type": "markdown",
      "source": [
        "###**Ejercicio 1**\n",
        "\n",
        "\n",
        "####Realice una función sin paso de parámetros con retorno múltiple. E imprime el resultado.\n",
        "\n"
      ],
      "metadata": {
        "id": "0KX-iU62kHaE"
      }
    },
    {
      "cell_type": "code",
      "source": [
        "def Euler1(inicial, tiempo, paso):\n",
        "  '''Esta funcion realiza el algoritmo de Euler para\n",
        "  encontrar la solución numérica de la Ecuación diferencial\n",
        "  dy/dt = 2t - 3y\n",
        "  Con la condición inicial, hasta el tiempo dado y con un paso\n",
        "  de integración dados por el usuario'''\n",
        "  t0 = 0\n",
        "  y0 = inicial\n",
        "  t = tiempo\n",
        "  h = paso\n",
        "  tot = int(t/h)\n",
        "  f0 = 2*t0 - 3*y0\n",
        "  print(\"\\nLa solución de la ecuación diferencial es es: t    y\")\n",
        "  for i in range(t0, tot):\n",
        "    fi = y0 + h*(2*t0 - 3*y0)\n",
        "    print(t0, fi)\n",
        "    y0 = fi\n",
        "    t0+1\n",
        "    t0= t0+0.1\n",
        "  return t0,y0\n",
        "tiempo,solucion = Euler1(2,5,0.1)\n"
      ],
      "metadata": {
        "id": "5LmYT7y2ZaJS",
        "colab": {
          "base_uri": "https://localhost:8080/"
        },
        "outputId": "cb2a7bd4-03e7-456d-c093-95d4bd28d10d"
      },
      "execution_count": null,
      "outputs": [
        {
          "output_type": "stream",
          "name": "stdout",
          "text": [
            "\n",
            "La solución de la ecuación diferencial es es: t    y\n",
            "0 1.4\n",
            "0.1 1.0\n",
            "0.2 0.74\n",
            "0.30000000000000004 0.5780000000000001\n",
            "0.4 0.48460000000000003\n",
            "0.5 0.43922\n",
            "0.6 0.427454\n",
            "0.7 0.4392178\n",
            "0.7999999999999999 0.46745245999999996\n",
            "0.8999999999999999 0.507216722\n",
            "0.9999999999999999 0.5550517053999999\n",
            "1.0999999999999999 0.6085361937799999\n",
            "1.2 0.665975335646\n",
            "1.3 0.7261827349522\n",
            "1.4000000000000001 0.78832791446654\n",
            "1.5000000000000002 0.8518295401265781\n",
            "1.6000000000000003 0.9162806780886047\n",
            "1.7000000000000004 0.9813964746620234\n",
            "1.8000000000000005 1.0469775322634165\n",
            "1.9000000000000006 1.1128842725843917\n",
            "2.0000000000000004 1.1790189908090742\n",
            "2.1000000000000005 1.245313293566352\n",
            "2.2000000000000006 1.3117193054964464\n",
            "2.3000000000000007 1.3782035138475126\n",
            "2.400000000000001 1.444742459693259\n",
            "2.500000000000001 1.5113197217852814\n",
            "2.600000000000001 1.577923805249697\n",
            "2.700000000000001 1.6445466636747883\n",
            "2.800000000000001 1.711182664572352\n",
            "2.9000000000000012 1.7778278652006467\n",
            "3.0000000000000013 1.844479505640453\n",
            "3.1000000000000014 1.9111356539483173\n",
            "3.2000000000000015 1.9777949577638225\n",
            "3.3000000000000016 2.044456470434676\n",
            "3.4000000000000017 2.1111195293042737\n",
            "3.5000000000000018 2.177783670512992\n",
            "3.600000000000002 2.2444485693590948\n",
            "3.700000000000002 2.3111139985513667\n",
            "3.800000000000002 2.3777797989859573\n",
            "3.900000000000002 2.4444458592901706\n",
            "4.000000000000002 2.51111210150312\n",
            "4.100000000000001 2.5777784710521843\n",
            "4.200000000000001 2.644444929736529\n",
            "4.300000000000001 2.7111114508155705\n",
            "4.4 2.7777780155708993\n",
            "4.5 2.8444446108996293\n",
            "4.6 2.9111112276297404\n",
            "4.699999999999999 2.977777859340818\n",
            "4.799999999999999 3.0444445015385724\n",
            "4.899999999999999 3.1111111510770004\n"
          ]
        }
      ]
    },
    {
      "cell_type": "markdown",
      "metadata": {
        "id": "Db-UHxfVDCPS"
      },
      "source": [
        "###**Ejercicio 2:**\n",
        "\n",
        "####Realizar una función con paso de parámetros que a partir de dos números cumpla lo siguiente:\n",
        "\n",
        "*   Si el primer número es mayor que el segundo, debe retornar un valor de **1**.\n",
        "\n",
        "*   Si el primer número es menor que el segundo, debe retornar un valor de **-1**.\n",
        "\n",
        "*   Si ambos números son iguales, debe retornar un valor de **0**."
      ]
    },
    {
      "cell_type": "code",
      "source": [
        "def comp(x1,x2):\n",
        "  if x1>x2: return 1\n",
        "  elif x1==x2: return 0\n",
        "  else: return -1\n",
        "\n",
        "a=comp(3,2)\n",
        "b=comp(2,2)\n",
        "c=comp(1,2)\n",
        "print(a,b,c)"
      ],
      "metadata": {
        "id": "ua4WoeBfISX2",
        "colab": {
          "base_uri": "https://localhost:8080/"
        },
        "outputId": "9e13b5a5-4464-4749-bdb2-056c8fd0e209"
      },
      "execution_count": null,
      "outputs": [
        {
          "output_type": "stream",
          "name": "stdout",
          "text": [
            "1 0 -1\n"
          ]
        }
      ]
    }
  ]
}